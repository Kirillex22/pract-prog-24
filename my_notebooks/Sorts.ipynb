{
 "cells": [
  {
   "cell_type": "code",
   "execution_count": 62,
   "id": "93b46e6b-6c99-4880-963f-53ec787593ca",
   "metadata": {},
   "outputs": [],
   "source": [
    "import random\n",
    "import time\n",
    "import pandas as pd"
   ]
  },
  {
   "cell_type": "markdown",
   "id": "e5387334-715b-4214-9747-57417ac0f886",
   "metadata": {},
   "source": [
    "## Получение времени выполнения"
   ]
  },
  {
   "cell_type": "code",
   "execution_count": 63,
   "id": "1a68a08a-196e-43f2-8ed7-5bfdd6a93ece",
   "metadata": {},
   "outputs": [],
   "source": [
    "def get_seconds(func, x, logging = False):\n",
    "    start = time.time()\n",
    "    res = func(x)\n",
    "    if logging:\n",
    "        print(res)\n",
    "    end = time.time()\n",
    "    return end - start"
   ]
  },
  {
   "cell_type": "markdown",
   "id": "924dabc3-58ae-41f3-99a5-61be90bc8295",
   "metadata": {},
   "source": [
    "## Свап элементов в массиве (листе)"
   ]
  },
  {
   "cell_type": "code",
   "execution_count": 64,
   "id": "9ae24113-3c40-4b38-864a-4f5a9dee82cb",
   "metadata": {},
   "outputs": [],
   "source": [
    "def swap(idx1: int, idx2: int, mas: list) -> list:\n",
    "    mas_i: int = mas[idx1]\n",
    "    mas[idx1] = mas[idx2]\n",
    "    mas[idx2] = mas_i\n",
    "    return mas"
   ]
  },
  {
   "cell_type": "markdown",
   "id": "d429d4a3-6768-478c-bfe3-b6b85c308f53",
   "metadata": {},
   "source": [
    "# Пузырьковая сортировка "
   ]
  },
  {
   "cell_type": "markdown",
   "id": "a5118f0b-4d33-4d49-b58a-1fbfd1494777",
   "metadata": {},
   "source": [
    "## Обычный вариант"
   ]
  },
  {
   "cell_type": "code",
   "execution_count": 65,
   "id": "edd2b587-0f00-4fc9-8582-99d163c45621",
   "metadata": {},
   "outputs": [],
   "source": [
    "def bubble_sort(mas: list) -> list:\n",
    "    while(True):\n",
    "        is_replaced: bool = False\n",
    "        for i in range(len(mas)):\n",
    "            if i == len(mas) - 1:\n",
    "                break\n",
    "\n",
    "            if mas[i] > mas[i+1]:\n",
    "                mas = swap(i, i+1, mas)\n",
    "                is_replaced = True\n",
    "            \n",
    "        if not is_replaced:\n",
    "            break\n",
    "\n",
    "    return mas"
   ]
  },
  {
   "cell_type": "markdown",
   "id": "89d6b7b5-c707-4c54-bc98-546e2f8c7fe9",
   "metadata": {},
   "source": [
    "## Шейкерная сортировка"
   ]
  },
  {
   "cell_type": "code",
   "execution_count": 66,
   "id": "8019e672-664d-46f8-8076-bbbaea7c2673",
   "metadata": {},
   "outputs": [],
   "source": [
    "def shaker_sort(mas: list) -> list:\n",
    "    while(True):\n",
    "        is_replaced: bool = False\n",
    "        for i in range(len(mas)):\n",
    "            if i == len(mas) - 1:\n",
    "                break\n",
    "\n",
    "            if mas[i] > mas[i+1]:\n",
    "                mas = swap(i, i+1, mas)\n",
    "                is_replaced = True\n",
    "\n",
    "        for i in range(len(mas)):\n",
    "            if i == 0:\n",
    "                break\n",
    "\n",
    "            if mas[-i] < mas[-i-1]:\n",
    "                mas = swap(-i, -i-1, mas)\n",
    "                is_replaced = True\n",
    "\n",
    "        if not is_replaced:\n",
    "            break\n",
    "\n",
    "    return mas"
   ]
  },
  {
   "cell_type": "markdown",
   "id": "ca45c46c-68f7-4a64-bc21-5f786896ed29",
   "metadata": {},
   "source": [
    "## Сортировка \"расческой\""
   ]
  },
  {
   "cell_type": "code",
   "execution_count": 67,
   "id": "4764c3a7-2ded-469f-9e5b-9a64c1c3b639",
   "metadata": {},
   "outputs": [],
   "source": [
    "def comb_sort(mas: list) -> list:\n",
    "    constant: float = 1.247\n",
    "    step: int = len(mas) - 1\n",
    "    while(step >= 1):\n",
    "        for i in range(len(mas)):\n",
    "            if i == len(mas) - 1 or i+step>len(mas)-1:\n",
    "                break\n",
    "\n",
    "            if mas[i] > mas[i+step]:\n",
    "                mas = swap(i, i+step, mas)\n",
    "\n",
    "        step = int(step//constant)\n",
    "\n",
    "    mas = bubble_sort(mas)\n",
    "\n",
    "    return mas"
   ]
  },
  {
   "cell_type": "markdown",
   "id": "43b3b673-8df9-4176-abbd-5c3a3fb9a5c2",
   "metadata": {},
   "source": [
    "# Простые сортировки"
   ]
  },
  {
   "cell_type": "markdown",
   "id": "305ceff0-ce5d-44e4-bc9e-91e1dfd4a516",
   "metadata": {},
   "source": [
    "## Сортировка вставками"
   ]
  },
  {
   "cell_type": "code",
   "execution_count": 68,
   "id": "438e9d6b-3bee-4bd6-abe6-e2482075fed2",
   "metadata": {},
   "outputs": [],
   "source": [
    "def insert_sort(mas: list) -> list:\n",
    "    for i in range(len(mas)):\n",
    "        j: int = i\n",
    "        while((j > 0) & (mas[j-1] > mas[j])):\n",
    "            mas = swap(j, j-1, mas)\n",
    "            j -= 1 \n",
    "        \n",
    "    return mas"
   ]
  },
  {
   "cell_type": "markdown",
   "id": "7cbc05de-8ca5-457c-b0bd-aebdc9c9f943",
   "metadata": {},
   "source": [
    "## Сортировка выбором"
   ]
  },
  {
   "cell_type": "code",
   "execution_count": 69,
   "id": "e1ca4702-0bee-4b1d-a04c-a63e01effc93",
   "metadata": {},
   "outputs": [],
   "source": [
    "def choose_sort(mas: list) -> list:\n",
    "    n: int = len(mas)\n",
    "    for i in range(n):\n",
    "        local_min: int = 1e9\n",
    "        local_min_idx: int = None\n",
    "        \n",
    "        for j in range(i+1, n):\n",
    "            if mas[j] < local_min:\n",
    "                local_min = mas[j]\n",
    "                local_min_idx = j\n",
    "                \n",
    "        if (local_min_idx is not None) & (local_min < mas[i]):\n",
    "            mas = swap(i, local_min_idx, mas)\n",
    "            \n",
    "    return mas"
   ]
  },
  {
   "cell_type": "markdown",
   "id": "b8f96eae-0986-45c3-9a66-fe7c37f4996d",
   "metadata": {},
   "source": [
    "# Эффективные сортировки"
   ]
  },
  {
   "cell_type": "markdown",
   "id": "e4da5a2e-2b08-486d-954b-ce4063539fbf",
   "metadata": {},
   "source": [
    "## Быстрая сортировка"
   ]
  },
  {
   "cell_type": "code",
   "execution_count": 70,
   "id": "5aae681d-d530-4c56-aea3-73070a209e3f",
   "metadata": {},
   "outputs": [],
   "source": [
    "def split_mas(mas: list) -> int:\n",
    "    return random.choice(mas)"
   ]
  },
  {
   "cell_type": "code",
   "execution_count": 71,
   "id": "ca927c8c-32fd-46b9-8da9-3966ece1064d",
   "metadata": {},
   "outputs": [],
   "source": [
    "def quick_sort(mas: list) -> list:\n",
    "    if len(mas) < 2:\n",
    "        return mas\n",
    "    \n",
    "    base: list = split_mas(mas)\n",
    "    less: list = [i for i in mas if i < base]\n",
    "    more: list = [i for i in mas if i > base]\n",
    "\n",
    "    return quick_sort(less) + [base] + quick_sort(more)"
   ]
  },
  {
   "cell_type": "markdown",
   "id": "799a3bc8-36be-464c-a2dc-1e728fbeacaa",
   "metadata": {},
   "source": [
    "## Пирамидальная сортировка"
   ]
  },
  {
   "cell_type": "code",
   "execution_count": 72,
   "id": "2fe24b6d-5f3d-4a7f-9d80-a7d508963a29",
   "metadata": {},
   "outputs": [],
   "source": [
    "def heapify(mas: list, n: int, root: int):\n",
    "    largest = root\n",
    "    left = 2*root + 1\n",
    "    right = 2*root + 2\n",
    "\n",
    "    if left < n and mas[root] < mas[left]:\n",
    "        largest = left\n",
    "\n",
    "    if right < n and mas[largest] < mas[right]:\n",
    "        largest = right\n",
    "\n",
    "    if largest != root:\n",
    "        mas = swap(root, largest, mas)\n",
    "        heapify(mas, n, largest)"
   ]
  },
  {
   "cell_type": "code",
   "execution_count": 73,
   "id": "ae48be84-2543-4cf8-8ff2-da302ff92d0e",
   "metadata": {},
   "outputs": [],
   "source": [
    "def heap_sort(mas: list) -> list:\n",
    "    n = len(mas)\n",
    "    for i in range(n//2 - 1, -1, -1):\n",
    "        heapify(mas, n, i)\n",
    "    for i in range(n-1, 0, -1):\n",
    "        mas = swap(0, i, mas)\n",
    "        heapify(mas, i, 0) \n",
    "        \n",
    "    return mas"
   ]
  },
  {
   "cell_type": "markdown",
   "id": "558ba5d7-8607-4b0d-89f8-d5cd4acff6d7",
   "metadata": {},
   "source": [
    "## Сортировка слиянием"
   ]
  },
  {
   "cell_type": "code",
   "execution_count": 74,
   "id": "4cb34836-b6f0-45a9-9fba-929443975a0f",
   "metadata": {},
   "outputs": [],
   "source": [
    "def merge(f_half: list, s_half: list) -> list:\n",
    "    merged: list = []\n",
    "    while((len(f_half) > 0) & (len(s_half) > 0)):\n",
    "        if f_half[0] > s_half[0]:\n",
    "            merged.append(s_half.pop(0))\n",
    "            \n",
    "        else:\n",
    "            merged.append(f_half.pop(0))\n",
    "            \n",
    "    return merged + f_half + s_half"
   ]
  },
  {
   "cell_type": "code",
   "execution_count": 75,
   "id": "bc7e9a01-9203-403a-a89c-bd67ed3c3f1d",
   "metadata": {},
   "outputs": [],
   "source": [
    "def merge_sort(mas: list) -> list:\n",
    "    n: int = len(mas)\n",
    "\n",
    "    if n < 2:\n",
    "        return mas\n",
    "        \n",
    "    f_half: list = mas[:n//2]\n",
    "    s_half: list = mas[n//2:]\n",
    "    return merge(merge_sort(f_half), merge_sort(s_half))"
   ]
  },
  {
   "cell_type": "markdown",
   "id": "77c81fd4-2a3d-4829-9d8d-2ad1a13e383e",
   "metadata": {},
   "source": [
    "## *Вывод результатов*"
   ]
  },
  {
   "cell_type": "markdown",
   "id": "67242df0-0a03-4960-bbe7-54f43aad58d8",
   "metadata": {},
   "source": [
    "### Функция для проведения n_iters экспериментов размерности size с амплитудой величины элемента amplitude"
   ]
  },
  {
   "cell_type": "code",
   "execution_count": 76,
   "id": "33888fe7-b014-441b-92e8-0d7327ff9239",
   "metadata": {},
   "outputs": [],
   "source": [
    "def show_results(amplitude: int, size: int, funcs: list, names: list, n_iters: int = 1) -> pd.DataFrame:  \n",
    "    times: dict = dict(zip(names, [0 for i in range(len(names))]))\n",
    "                       \n",
    "    for i in range(n_iters):\n",
    "        mas = [random.randint(-amplitude, amplitude) for i in range(size+1)]          \n",
    "        for func, name in zip(funcs, names):\n",
    "            times[name] += get_seconds(\n",
    "                func,\n",
    "                mas.copy(),\n",
    "                False\n",
    "            )\n",
    "\n",
    "    df = pd.DataFrame(\n",
    "        list(times.items()), \n",
    "        columns = ['Algorithm', 'Total time']\n",
    "    )\n",
    "    \n",
    "    df.sort_values(\n",
    "        by = 'Total time', \n",
    "        ascending = True, \n",
    "        inplace = True\n",
    "    )\n",
    "\n",
    "    df['Total time'] = df['Total time'].apply(lambda x: x/n_iters)\n",
    "    return df"
   ]
  },
  {
   "cell_type": "code",
   "execution_count": 77,
   "id": "0e15d517-643e-4dc3-9431-e8c9dfa6dea1",
   "metadata": {},
   "outputs": [],
   "source": [
    "current_funcs = [bubble_sort, shaker_sort, comb_sort, insert_sort, choose_sort, quick_sort, heap_sort, merge_sort]\n",
    "current_names = [\"bubble_original\", \"bublee_shaker\", \"bubble_comb\", \"insert\", \"choose\", \"quick\", \"heap\", \"merge\"]"
   ]
  },
  {
   "cell_type": "markdown",
   "id": "a55b8cd3-bdbf-470a-a900-6a19b1002f57",
   "metadata": {},
   "source": [
    "### Размерность 3 порядка"
   ]
  },
  {
   "cell_type": "code",
   "execution_count": 78,
   "id": "8e9c8f06-3ffe-4883-b07f-7ff35e18a622",
   "metadata": {},
   "outputs": [
    {
     "data": {
      "text/html": [
       "<div>\n",
       "<style scoped>\n",
       "    .dataframe tbody tr th:only-of-type {\n",
       "        vertical-align: middle;\n",
       "    }\n",
       "\n",
       "    .dataframe tbody tr th {\n",
       "        vertical-align: top;\n",
       "    }\n",
       "\n",
       "    .dataframe thead th {\n",
       "        text-align: right;\n",
       "    }\n",
       "</style>\n",
       "<table border=\"1\" class=\"dataframe\">\n",
       "  <thead>\n",
       "    <tr style=\"text-align: right;\">\n",
       "      <th></th>\n",
       "      <th>Algorithm</th>\n",
       "      <th>Total time</th>\n",
       "    </tr>\n",
       "  </thead>\n",
       "  <tbody>\n",
       "    <tr>\n",
       "      <th>5</th>\n",
       "      <td>quick</td>\n",
       "      <td>0.001136</td>\n",
       "    </tr>\n",
       "    <tr>\n",
       "      <th>6</th>\n",
       "      <td>heap</td>\n",
       "      <td>0.002612</td>\n",
       "    </tr>\n",
       "    <tr>\n",
       "      <th>7</th>\n",
       "      <td>merge</td>\n",
       "      <td>0.002677</td>\n",
       "    </tr>\n",
       "    <tr>\n",
       "      <th>2</th>\n",
       "      <td>bubble_comb</td>\n",
       "      <td>0.004070</td>\n",
       "    </tr>\n",
       "    <tr>\n",
       "      <th>4</th>\n",
       "      <td>choose</td>\n",
       "      <td>0.013386</td>\n",
       "    </tr>\n",
       "    <tr>\n",
       "      <th>3</th>\n",
       "      <td>insert</td>\n",
       "      <td>0.040870</td>\n",
       "    </tr>\n",
       "    <tr>\n",
       "      <th>1</th>\n",
       "      <td>bublee_shaker</td>\n",
       "      <td>0.120476</td>\n",
       "    </tr>\n",
       "    <tr>\n",
       "      <th>0</th>\n",
       "      <td>bubble_original</td>\n",
       "      <td>0.122889</td>\n",
       "    </tr>\n",
       "  </tbody>\n",
       "</table>\n",
       "</div>"
      ],
      "text/plain": [
       "         Algorithm  Total time\n",
       "5            quick    0.001136\n",
       "6             heap    0.002612\n",
       "7            merge    0.002677\n",
       "2      bubble_comb    0.004070\n",
       "4           choose    0.013386\n",
       "3           insert    0.040870\n",
       "1    bublee_shaker    0.120476\n",
       "0  bubble_original    0.122889"
      ]
     },
     "execution_count": 78,
     "metadata": {},
     "output_type": "execute_result"
    }
   ],
   "source": [
    "show_results(\n",
    "    amplitude = 1000,\n",
    "    size = 1000,\n",
    "    n_iters = 50, \n",
    "    funcs = current_funcs,\n",
    "    names = current_names\n",
    ")"
   ]
  },
  {
   "cell_type": "markdown",
   "id": "e7d2dcb9-7f0d-42f7-a970-57b3e4b88491",
   "metadata": {},
   "source": [
    "### Размерность 4 порядка"
   ]
  },
  {
   "cell_type": "code",
   "execution_count": 79,
   "id": "9cd77e81-545d-47d7-8243-28153eb8cfde",
   "metadata": {},
   "outputs": [
    {
     "data": {
      "text/html": [
       "<div>\n",
       "<style scoped>\n",
       "    .dataframe tbody tr th:only-of-type {\n",
       "        vertical-align: middle;\n",
       "    }\n",
       "\n",
       "    .dataframe tbody tr th {\n",
       "        vertical-align: top;\n",
       "    }\n",
       "\n",
       "    .dataframe thead th {\n",
       "        text-align: right;\n",
       "    }\n",
       "</style>\n",
       "<table border=\"1\" class=\"dataframe\">\n",
       "  <thead>\n",
       "    <tr style=\"text-align: right;\">\n",
       "      <th></th>\n",
       "      <th>Algorithm</th>\n",
       "      <th>Total time</th>\n",
       "    </tr>\n",
       "  </thead>\n",
       "  <tbody>\n",
       "    <tr>\n",
       "      <th>5</th>\n",
       "      <td>quick</td>\n",
       "      <td>0.008609</td>\n",
       "    </tr>\n",
       "    <tr>\n",
       "      <th>6</th>\n",
       "      <td>heap</td>\n",
       "      <td>0.036527</td>\n",
       "    </tr>\n",
       "    <tr>\n",
       "      <th>2</th>\n",
       "      <td>bubble_comb</td>\n",
       "      <td>0.058982</td>\n",
       "    </tr>\n",
       "    <tr>\n",
       "      <th>7</th>\n",
       "      <td>merge</td>\n",
       "      <td>0.114608</td>\n",
       "    </tr>\n",
       "    <tr>\n",
       "      <th>4</th>\n",
       "      <td>choose</td>\n",
       "      <td>1.336042</td>\n",
       "    </tr>\n",
       "    <tr>\n",
       "      <th>3</th>\n",
       "      <td>insert</td>\n",
       "      <td>4.186340</td>\n",
       "    </tr>\n",
       "    <tr>\n",
       "      <th>1</th>\n",
       "      <td>bublee_shaker</td>\n",
       "      <td>12.494069</td>\n",
       "    </tr>\n",
       "    <tr>\n",
       "      <th>0</th>\n",
       "      <td>bubble_original</td>\n",
       "      <td>12.740224</td>\n",
       "    </tr>\n",
       "  </tbody>\n",
       "</table>\n",
       "</div>"
      ],
      "text/plain": [
       "         Algorithm  Total time\n",
       "5            quick    0.008609\n",
       "6             heap    0.036527\n",
       "2      bubble_comb    0.058982\n",
       "7            merge    0.114608\n",
       "4           choose    1.336042\n",
       "3           insert    4.186340\n",
       "1    bublee_shaker   12.494069\n",
       "0  bubble_original   12.740224"
      ]
     },
     "execution_count": 79,
     "metadata": {},
     "output_type": "execute_result"
    }
   ],
   "source": [
    "show_results(\n",
    "    amplitude = 1000,\n",
    "    size = 10000,\n",
    "    n_iters = 5, \n",
    "    funcs = current_funcs,\n",
    "    names = current_names\n",
    ")"
   ]
  },
  {
   "cell_type": "markdown",
   "id": "44ba4117-2aa7-4cff-a92a-139c3885fbab",
   "metadata": {},
   "source": [
    "## Графики"
   ]
  },
  {
   "cell_type": "code",
   "execution_count": 80,
   "id": "d2d7ecc6-5052-45f8-9e1d-2a66ee440768",
   "metadata": {},
   "outputs": [],
   "source": [
    "#dimensions = list(range(10, 5000, 10))\n",
    "#problems = [[random.randint(-1000, 1000) for i in range(dim)] for dim in dimensions]"
   ]
  },
  {
   "cell_type": "code",
   "execution_count": 81,
   "id": "d611e784-cf83-470c-8804-775af56e0f60",
   "metadata": {},
   "outputs": [],
   "source": [
    "#import matplotlib.pyplot as plt\n",
    "\n",
    "#times: dict = {\n",
    "    #\"bubble_original\": [get_seconds(bubble_sort, problem.copy(), False) for problem in problems],\n",
    "    #\"bublee_shaker\" : [get_seconds(shaker_sort, problem.copy(), False) for problem in problems],\n",
    "    #\"bubble_comb\": [get_seconds(comb_sort, problem.copy(), False) for problem in problems],\n",
    "    #\"insert\" : [get_seconds(insert_sort, problem.copy(), False) for problem in problems],\n",
    "    #\"choose\" : [get_seconds(choose_sort, problem.copy(), False) for problem in problems],\n",
    "    #\"quick\" : [get_seconds(quick_sort, problem.copy(), False) for problem in problems],\n",
    "    #\"heap\" : [get_seconds(heap_sort, problem.copy(), False) for problem in problems]\n",
    "#}\n",
    "\n",
    "#plt.title(\"$O(f(n))$ visualisation\")\n",
    "#plt.ylabel('time', fontsize= 14 )\n",
    "#plt.xlabel('dimension', fontsize= 14 )\n",
    "\n",
    "#for key, value in times.items():\n",
    "    #plt.plot(dimensions, value, label = key)\n",
    "    \n",
    "#plt.legend()"
   ]
  },
  {
   "cell_type": "code",
   "execution_count": null,
   "id": "a4f40e31-233c-4001-9efc-d38e747306aa",
   "metadata": {},
   "outputs": [],
   "source": []
  }
 ],
 "metadata": {
  "kernelspec": {
   "display_name": "Python 3 (ipykernel)",
   "language": "python",
   "name": "python3"
  },
  "language_info": {
   "codemirror_mode": {
    "name": "ipython",
    "version": 3
   },
   "file_extension": ".py",
   "mimetype": "text/x-python",
   "name": "python",
   "nbconvert_exporter": "python",
   "pygments_lexer": "ipython3",
   "version": "3.9.0"
  }
 },
 "nbformat": 4,
 "nbformat_minor": 5
}
